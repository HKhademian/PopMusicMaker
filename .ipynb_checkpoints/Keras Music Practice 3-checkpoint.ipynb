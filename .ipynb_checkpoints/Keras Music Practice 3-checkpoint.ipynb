{
 "cells": [
  {
   "cell_type": "code",
   "execution_count": 59,
   "metadata": {},
   "outputs": [],
   "source": [
    "from music21 import converter, stream, note, chord, instrument\n",
    "from collections import *\n",
    "from itertools import groupby\n",
    "import numpy as np"
   ]
  },
  {
   "cell_type": "code",
   "execution_count": 2,
   "metadata": {},
   "outputs": [],
   "source": [
    "midi = converter.parse('/Users/Haebichan/Desktop/midi/KissTheRain.mid')"
   ]
  },
  {
   "cell_type": "code",
   "execution_count": 3,
   "metadata": {},
   "outputs": [],
   "source": [
    "parts = instrument.partitionByInstrument(midi)"
   ]
  },
  {
   "cell_type": "code",
   "execution_count": 34,
   "metadata": {},
   "outputs": [],
   "source": [
    "notes_to_parse = parts.recurse()"
   ]
  },
  {
   "cell_type": "code",
   "execution_count": 57,
   "metadata": {},
   "outputs": [],
   "source": [
    "\n",
    "min_value = 0.00\n",
    "lower_first = 0.00\n",
    "\n",
    "lower_second = 0.5\n",
    "upper_first = 0.5\n",
    "\n",
    "upper_second = 1.0\n",
    "max_value = 1.0\n",
    "\n",
    "def notes_to_matrix(notes, durations, offsets, min_value=min_value, lower_first=lower_first,\n",
    "                    lower_second=lower_second,\n",
    "                    upper_first=upper_first, upper_second=upper_second,\n",
    "                    max_value=max_value):\n",
    "    \n",
    "    # I want to represent my notes in matrix form. X axis will represent time, Y axis will represent pitch values.\n",
    "    # I should normalize my matrix between 0 and 1.\n",
    "    # So that I will represent rest with (min_value, lower_first), continuation with [lower_second, upper_first]\n",
    "    # and first touch with (upper_second, max_value)\n",
    "    # First touch means that you press the note and it cause to 1 time duration playing. Continuation\n",
    "    # represent the continuum of this note playing. \n",
    "    \n",
    "    try:\n",
    "        last_offset = int(offsets[-1]) \n",
    "    except IndexError:\n",
    "        print ('Index Error')\n",
    "        return (None, None, None)\n",
    "    \n",
    "    total_offset_axis = last_offset * 4 + (8 * 4) \n",
    "    our_matrix = np.random.uniform(min_value, lower_first, (128, int(total_offset_axis))) \n",
    "    # creates matrix and fills with (-1, -0.3), this values will represent the rest.\n",
    "    \n",
    "    for (note, duration, offset) in zip(notes, durations, offsets):\n",
    "        how_many = int(float(duration)/0.25) # indicates time duration for single note.\n",
    "       \n",
    "        \n",
    "        # Define difference between single and double note.\n",
    "        # I have choose the value for first touch, the another value for contiunation\n",
    "        # lets make it randomize\n",
    "        first_touch = np.random.uniform(upper_second, max_value, 1)\n",
    "        # continuation = np.random.randint(low=-1, high=1) * np.random.uniform(lower_second, upper_first, 1)\n",
    "        continuation = np.random.uniform(lower_second, upper_first, 1)\n",
    "        if ('.' not in str(note)): # it is not chord. Single note.\n",
    "            our_matrix[note, int(offset * 4)] = first_touch\n",
    "            our_matrix[note, int((offset * 4) + 1) : int((offset * 4) + how_many)] = continuation\n",
    "\n",
    "        else: # For chord\n",
    "            chord_notes_str = [note for note in note.split('.')] \n",
    "            chord_notes_float = list(map(int, chord_notes_str)) # take notes in chord one by one\n",
    "\n",
    "            for chord_note_float in chord_notes_float:\n",
    "                our_matrix[chord_note_float, int(offset * 4)] = first_touch\n",
    "                our_matrix[chord_note_float, int((offset * 4) + 1) : int((offset * 4) + how_many)] = continuation\n",
    "                \n",
    "    return our_matrix"
   ]
  },
  {
   "cell_type": "code",
   "execution_count": 40,
   "metadata": {},
   "outputs": [],
   "source": [
    "def note_to_int(note): # converts the note's letter to pitch value which is integer form.\n",
    "    # source: https://musescore.org/en/plugin-development/note-pitch-values\n",
    "    # idea: https://github.com/bspaans/python-mingus/blob/master/mingus/core/notes.py\n",
    "    note_base_name = ['C', 'C#', 'D', 'D#', 'E', 'F', 'F#', 'G', 'G#', 'A', 'A#', 'B']\n",
    "    if ('#-' in note):\n",
    "        first_letter = note[0]\n",
    "        base_value = note_base_name.index(first_letter)\n",
    "        octave = note[3]\n",
    "        value = base_value + 12*(int(octave)-(-1))\n",
    "        \n",
    "    elif ('#' in note): # not totally sure, source: http://www.pianofinders.com/educational/WhatToCallTheKeys1.htm\n",
    "        first_letter = note[0]\n",
    "        base_value = note_base_name.index(first_letter)\n",
    "        octave = note[2]\n",
    "        value = base_value + 12*(int(octave)-(-1))\n",
    "        \n",
    "    elif ('-' in note): \n",
    "        first_letter = note[0]\n",
    "        base_value = note_base_name.index(first_letter)\n",
    "        octave = note[2]\n",
    "        value = base_value + 12*(int(octave)-(-1))\n",
    "        \n",
    "    else:\n",
    "        first_letter = note[0]\n",
    "        base_val = note_base_name.index(first_letter)\n",
    "        octave = note[1]\n",
    "        value = base_val + 12*(int(octave)-(-1))\n",
    "        \n",
    "    return value"
   ]
  },
  {
   "cell_type": "code",
   "execution_count": 55,
   "metadata": {},
   "outputs": [],
   "source": [
    "durations = []\n",
    "notes = []\n",
    "offsets = []\n",
    "\n",
    "for element in notes_to_parse:\n",
    "    if isinstance(element, note.Note):\n",
    "        notes.append(note_to_int(str(element.pitch)))\n",
    "        durations.append(element.duration.quarterLength)\n",
    "        offsets.append(element.offset)\n",
    "    if isinstance(element, chord.Chord):\n",
    "        notes.append('.'.join(str(note_to_int(str(n))) for n in element.pitches))\n"
   ]
  },
  {
   "cell_type": "code",
   "execution_count": 63,
   "metadata": {},
   "outputs": [],
   "source": [
    "arr = notes_to_matrix(notes, durations, offsets, min_value=min_value, lower_first=lower_first,\n",
    "                    lower_second=lower_second,\n",
    "                    upper_first=upper_first, upper_second=upper_second,\n",
    "                    max_value=max_value)"
   ]
  },
  {
   "cell_type": "code",
   "execution_count": null,
   "metadata": {},
   "outputs": [],
   "source": []
  },
  {
   "cell_type": "code",
   "execution_count": null,
   "metadata": {},
   "outputs": [],
   "source": []
  },
  {
   "cell_type": "code",
   "execution_count": null,
   "metadata": {},
   "outputs": [],
   "source": []
  },
  {
   "cell_type": "code",
   "execution_count": 61,
   "metadata": {},
   "outputs": [],
   "source": [
    "notes_to_parse = parts.recurse()\n"
   ]
  },
  {
   "cell_type": "code",
   "execution_count": 62,
   "metadata": {},
   "outputs": [],
   "source": [
    "from keras import layers\n",
    "from keras import models\n",
    "import keras\n",
    "from keras.models import Model\n",
    "import tensorflow as tf\n",
    "from keras.layers.advanced_activations import *\n",
    "\n",
    "max_len = 18\n",
    "midi_shape = (max_len, 128)\n",
    "\n",
    "input_midi = keras.Input(midi_shape)\n",
    "\n",
    "x = layers.LSTM(1024, return_sequences=True, unit_forget_bias=True)(input_midi)\n",
    "x = layers.LeakyReLU()(x)\n",
    "x = layers.BatchNormalization() (x)\n",
    "x = layers.Dropout(0.3)(x)\n",
    "\n",
    "# compute importance for each step\n",
    "attention = layers.Dense(1, activation='tanh')(x)\n",
    "attention = layers.Flatten()(attention)\n",
    "attention = layers.Activation('softmax')(attention)\n",
    "attention = layers.RepeatVector(1024)(attention)\n",
    "attention = layers.Permute([2, 1])(attention)\n",
    "\n",
    "multiplied = layers.Multiply()([x, attention])\n",
    "sent_representation = layers.Dense(512)(multiplied)\n",
    "\n",
    "\n",
    "x = layers.Dense(512)(sent_representation)\n",
    "x = layers.LeakyReLU()(x)\n",
    "x = layers.BatchNormalization() (x)\n",
    "x = layers.Dropout(0.22)(x)\n",
    "\n",
    "x = layers.LSTM(512, return_sequences=True, unit_forget_bias=True)(x)\n",
    "x = layers.LeakyReLU()(x)\n",
    "x = layers.BatchNormalization() (x)\n",
    "x = layers.Dropout(0.22)(x)\n",
    "\n",
    "\n",
    "# compute importance for each step\n",
    "attention = layers.Dense(1, activation='tanh')(x)\n",
    "attention = layers.Flatten()(attention)\n",
    "attention = layers.Activation('softmax')(attention)\n",
    "attention = layers.RepeatVector(512)(attention)\n",
    "attention = layers.Permute([2, 1])(attention)\n",
    "\n",
    "multiplied = layers.Multiply()([x, attention])\n",
    "sent_representation = layers.Dense(256)(multiplied)\n",
    "\n",
    "\n",
    "x = layers.Dense(256)(sent_representation)\n",
    "x = layers.LeakyReLU()(x)\n",
    "x = layers.BatchNormalization() (x)\n",
    "x = layers.Dropout(0.22)(x)\n",
    "\n",
    "\n",
    "x = layers.LSTM(128, unit_forget_bias=True)(x)\n",
    "x = layers.LeakyReLU()(x)\n",
    "x = layers.BatchNormalization() (x)\n",
    "x = layers.Dropout(0.22)(x)\n",
    "\n",
    "\n",
    "x = layers.Dense(128, activation='softmax')(x) \n",
    "\n",
    "model = Model(input_midi, x)"
   ]
  },
  {
   "cell_type": "code",
   "execution_count": 16,
   "metadata": {},
   "outputs": [],
   "source": [
    "from IPython.display import SVG\n",
    "from keras.utils.vis_utils import model_to_dot"
   ]
  },
  {
   "cell_type": "code",
   "execution_count": 18,
   "metadata": {},
   "outputs": [],
   "source": [
    "# SVG(model_to_dot(model).create(format = 'svg'))"
   ]
  },
  {
   "cell_type": "code",
   "execution_count": null,
   "metadata": {},
   "outputs": [],
   "source": []
  },
  {
   "cell_type": "code",
   "execution_count": null,
   "metadata": {},
   "outputs": [],
   "source": []
  },
  {
   "cell_type": "code",
   "execution_count": null,
   "metadata": {},
   "outputs": [],
   "source": []
  },
  {
   "cell_type": "code",
   "execution_count": null,
   "metadata": {},
   "outputs": [],
   "source": []
  },
  {
   "cell_type": "code",
   "execution_count": null,
   "metadata": {},
   "outputs": [],
   "source": []
  },
  {
   "cell_type": "code",
   "execution_count": null,
   "metadata": {},
   "outputs": [],
   "source": []
  },
  {
   "cell_type": "code",
   "execution_count": null,
   "metadata": {},
   "outputs": [],
   "source": []
  },
  {
   "cell_type": "code",
   "execution_count": null,
   "metadata": {},
   "outputs": [],
   "source": []
  },
  {
   "cell_type": "code",
   "execution_count": null,
   "metadata": {},
   "outputs": [],
   "source": []
  },
  {
   "cell_type": "code",
   "execution_count": null,
   "metadata": {},
   "outputs": [],
   "source": []
  },
  {
   "cell_type": "code",
   "execution_count": null,
   "metadata": {},
   "outputs": [],
   "source": []
  },
  {
   "cell_type": "code",
   "execution_count": null,
   "metadata": {},
   "outputs": [],
   "source": []
  },
  {
   "cell_type": "code",
   "execution_count": null,
   "metadata": {},
   "outputs": [],
   "source": []
  },
  {
   "cell_type": "code",
   "execution_count": null,
   "metadata": {},
   "outputs": [],
   "source": []
  },
  {
   "cell_type": "code",
   "execution_count": null,
   "metadata": {},
   "outputs": [],
   "source": []
  },
  {
   "cell_type": "code",
   "execution_count": null,
   "metadata": {},
   "outputs": [],
   "source": []
  },
  {
   "cell_type": "code",
   "execution_count": null,
   "metadata": {},
   "outputs": [],
   "source": []
  },
  {
   "cell_type": "code",
   "execution_count": null,
   "metadata": {},
   "outputs": [],
   "source": []
  },
  {
   "cell_type": "code",
   "execution_count": null,
   "metadata": {},
   "outputs": [],
   "source": []
  }
 ],
 "metadata": {
  "kernelspec": {
   "display_name": "Python 3",
   "language": "python",
   "name": "python3"
  },
  "language_info": {
   "codemirror_mode": {
    "name": "ipython",
    "version": 3
   },
   "file_extension": ".py",
   "mimetype": "text/x-python",
   "name": "python",
   "nbconvert_exporter": "python",
   "pygments_lexer": "ipython3",
   "version": "3.6.5"
  }
 },
 "nbformat": 4,
 "nbformat_minor": 2
}
