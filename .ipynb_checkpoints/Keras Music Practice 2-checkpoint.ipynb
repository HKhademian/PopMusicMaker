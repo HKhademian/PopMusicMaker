{
 "cells": [
  {
   "cell_type": "code",
   "execution_count": 3,
   "metadata": {},
   "outputs": [
    {
     "name": "stderr",
     "output_type": "stream",
     "text": [
      "/Users/Haebichan/anaconda3/lib/python3.6/site-packages/h5py/__init__.py:36: FutureWarning: Conversion of the second argument of issubdtype from `float` to `np.floating` is deprecated. In future, it will be treated as `np.float64 == np.dtype(float).type`.\n",
      "  from ._conv import register_converters as _register_converters\n",
      "Using TensorFlow backend.\n"
     ]
    }
   ],
   "source": [
    "import pandas as pd\n",
    "import numpy as np\n",
    "from keras.layers import LSTM, Dense, Activation, Dropout\n",
    "from keras.models import Sequential\n",
    "from keras.utils import np_utils\n",
    "\n",
    "from music21 import converter, instrument, note,chord, stream\n",
    "\n",
    "from IPython.display import SVG\n",
    "from keras.utils.vis_utils import model_to_dot, plot_model"
   ]
  },
  {
   "cell_type": "code",
   "execution_count": 4,
   "metadata": {},
   "outputs": [],
   "source": [
    "midi_list = ['All Too Well.mid','All the Small Things.mid', 'Beauty and the Beat.mid','Breakaway.mid','Cant Feel My Face.mid','Dont Matter.mid','Dont Stop Believing.mid','Falling Slowly.mid', 'Hallelujah.mid','Halo.mid','Im Yours.mid','Imagine.mid','Let It Be.mid','Purpose.mid','Somewhere Out There.mid','Stay With Me.mid','Stronger.mid','Sunday Morning.mid','We Belong Together.mid','When I was Your Man.mid']"
   ]
  },
  {
   "cell_type": "code",
   "execution_count": 6,
   "metadata": {},
   "outputs": [],
   "source": [
    "all_midis = []\n",
    "all_parts = []\n",
    "\n",
    "for song in midi_list:\n",
    "    midi = converter.parse('/Users/Haebichan/Desktop/Final Project Galvanize/C Major Midi/' + song)\n",
    "    for i in midi.parts:\n",
    "        i.insert(0, instrument.Piano())\n",
    "    parts = instrument.partitionByInstrument(midi)\n",
    "\n",
    "    all_midis.append(midi)\n",
    "    all_parts.append(parts)\n"
   ]
  },
  {
   "cell_type": "code",
   "execution_count": 10,
   "metadata": {},
   "outputs": [],
   "source": [
    "midi = converter.parse('/Users/Haebichan/Desktop/KissTheRain.mid')"
   ]
  },
  {
   "cell_type": "code",
   "execution_count": 12,
   "metadata": {},
   "outputs": [],
   "source": [
    "s = instrument.partitionByInstrument(midi)"
   ]
  },
  {
   "cell_type": "code",
   "execution_count": 9,
   "metadata": {},
   "outputs": [
    {
     "data": {
      "text/plain": [
       "[<music21.stream.Score 0x112edc940>,\n",
       " <music21.stream.Score 0x11305fc18>,\n",
       " <music21.stream.Score 0x1130afa58>,\n",
       " <music21.stream.Score 0x1130af470>,\n",
       " <music21.stream.Score 0x11322e198>,\n",
       " <music21.stream.Score 0x1134415f8>,\n",
       " <music21.stream.Score 0x113b2f0f0>,\n",
       " <music21.stream.Score 0x112ed8320>,\n",
       " <music21.stream.Score 0x1139f02e8>,\n",
       " <music21.stream.Score 0x112ed8ef0>,\n",
       " <music21.stream.Score 0x106cf15f8>,\n",
       " <music21.stream.Score 0x10ae66cc0>,\n",
       " <music21.stream.Score 0x10ae77a58>,\n",
       " <music21.stream.Score 0x10ac88c18>,\n",
       " <music21.stream.Score 0x1130af0b8>,\n",
       " <music21.stream.Score 0x10af43908>,\n",
       " <music21.stream.Score 0x113700b00>,\n",
       " <music21.stream.Score 0x113840c50>,\n",
       " <music21.stream.Score 0x10afb47b8>,\n",
       " <music21.stream.Score 0xd1dacc048>]"
      ]
     },
     "execution_count": 9,
     "metadata": {},
     "output_type": "execute_result"
    }
   ],
   "source": [
    "all_midis"
   ]
  },
  {
   "cell_type": "code",
   "execution_count": 4,
   "metadata": {},
   "outputs": [],
   "source": [
    "notes = []\n",
    "\n",
    "for i in s.recurse():\n",
    "    if isinstance(i, note.Note):\n",
    "        notes.append(str(i.pitch))\n",
    "    elif isinstance(i, chord.Chord):\n",
    "        notes.append('.'.join(str(n) for n in i.normalOrder))\n"
   ]
  },
  {
   "cell_type": "code",
   "execution_count": 5,
   "metadata": {},
   "outputs": [],
   "source": [
    "sequence_length = 100\n",
    "\n",
    "allnotes = sorted(set(i for i in notes))"
   ]
  },
  {
   "cell_type": "code",
   "execution_count": 6,
   "metadata": {},
   "outputs": [],
   "source": [
    "note_index_dic = dict((note, index) for index, note in enumerate(allnotes)) "
   ]
  },
  {
   "cell_type": "code",
   "execution_count": 7,
   "metadata": {},
   "outputs": [],
   "source": [
    "notes_input = []\n",
    "notes_output = []\n",
    "n_words = len(set(notes))\n",
    "\n",
    "for i in range(0, len(notes) - sequence_length, 1):\n",
    "    sequence_in = notes[i: i + sequence_length]\n",
    "    sequence_out = notes[i + sequence_length]\n",
    "    \n",
    "    notes_input.append([note_index_dic[note] for note in sequence_in])\n",
    "    notes_output.append(note_index_dic[sequence_out])"
   ]
  },
  {
   "cell_type": "code",
   "execution_count": 8,
   "metadata": {},
   "outputs": [],
   "source": [
    "notes_input = np.array(notes_input).reshape(len(notes_input),  sequence_length, 1)\n",
    "notes_output = np_utils.to_categorical(notes_output)"
   ]
  },
  {
   "cell_type": "code",
   "execution_count": null,
   "metadata": {},
   "outputs": [],
   "source": []
  },
  {
   "cell_type": "code",
   "execution_count": 9,
   "metadata": {},
   "outputs": [],
   "source": [
    "notes_input = notes_input / float(n_words)"
   ]
  },
  {
   "cell_type": "code",
   "execution_count": 10,
   "metadata": {},
   "outputs": [],
   "source": [
    "model = Sequential()\n",
    "model.add(LSTM(\n",
    "    512,\n",
    "    input_shape=(notes_input.shape[1], notes_input.shape[2]),\n",
    "    return_sequences=True\n",
    "))\n",
    "model.add(Dropout(0.3))\n",
    "model.add(LSTM(512, return_sequences=True))\n",
    "model.add(Dropout(0.3))\n",
    "model.add(LSTM(512))\n",
    "model.add(Dense(256))\n",
    "model.add(Dropout(0.3))\n",
    "model.add(Dense(n_words))\n",
    "model.add(Activation('softmax'))\n",
    "model.compile(loss='categorical_crossentropy', optimizer='rmsprop')"
   ]
  },
  {
   "cell_type": "code",
   "execution_count": 11,
   "metadata": {},
   "outputs": [
    {
     "data": {
      "image/svg+xml": [
       "<svg height=\"702pt\" viewBox=\"0.00 0.00 158.92 702.00\" width=\"159pt\" xmlns=\"http://www.w3.org/2000/svg\" xmlns:xlink=\"http://www.w3.org/1999/xlink\">\n",
       "<g class=\"graph\" id=\"graph0\" transform=\"scale(1 1) rotate(0) translate(4 698)\">\n",
       "<title>G</title>\n",
       "<polygon fill=\"#ffffff\" points=\"-4,4 -4,-698 154.9209,-698 154.9209,4 -4,4\" stroke=\"transparent\"/>\n",
       "<!-- 56433351648 -->\n",
       "<g class=\"node\" id=\"node1\">\n",
       "<title>56433351648</title>\n",
       "<polygon fill=\"none\" points=\"26.0381,-584.5 26.0381,-620.5 124.8828,-620.5 124.8828,-584.5 26.0381,-584.5\" stroke=\"#000000\"/>\n",
       "<text fill=\"#000000\" font-family=\"Times,serif\" font-size=\"14.00\" text-anchor=\"middle\" x=\"75.4604\" y=\"-598.3\">lstm_1: LSTM</text>\n",
       "</g>\n",
       "<!-- 56430114912 -->\n",
       "<g class=\"node\" id=\"node2\">\n",
       "<title>56430114912</title>\n",
       "<polygon fill=\"none\" points=\"11.6587,-511.5 11.6587,-547.5 139.2622,-547.5 139.2622,-511.5 11.6587,-511.5\" stroke=\"#000000\"/>\n",
       "<text fill=\"#000000\" font-family=\"Times,serif\" font-size=\"14.00\" text-anchor=\"middle\" x=\"75.4604\" y=\"-525.3\">dropout_1: Dropout</text>\n",
       "</g>\n",
       "<!-- 56433351648&#45;&gt;56430114912 -->\n",
       "<g class=\"edge\" id=\"edge2\">\n",
       "<title>56433351648-&gt;56430114912</title>\n",
       "<path d=\"M75.4604,-584.4551C75.4604,-576.3828 75.4604,-566.6764 75.4604,-557.6817\" fill=\"none\" stroke=\"#000000\"/>\n",
       "<polygon fill=\"#000000\" points=\"78.9605,-557.5903 75.4604,-547.5904 71.9605,-557.5904 78.9605,-557.5903\" stroke=\"#000000\"/>\n",
       "</g>\n",
       "<!-- 56433340488 -->\n",
       "<g class=\"node\" id=\"node3\">\n",
       "<title>56433340488</title>\n",
       "<polygon fill=\"none\" points=\"26.0381,-438.5 26.0381,-474.5 124.8828,-474.5 124.8828,-438.5 26.0381,-438.5\" stroke=\"#000000\"/>\n",
       "<text fill=\"#000000\" font-family=\"Times,serif\" font-size=\"14.00\" text-anchor=\"middle\" x=\"75.4604\" y=\"-452.3\">lstm_2: LSTM</text>\n",
       "</g>\n",
       "<!-- 56430114912&#45;&gt;56433340488 -->\n",
       "<g class=\"edge\" id=\"edge3\">\n",
       "<title>56430114912-&gt;56433340488</title>\n",
       "<path d=\"M75.4604,-511.4551C75.4604,-503.3828 75.4604,-493.6764 75.4604,-484.6817\" fill=\"none\" stroke=\"#000000\"/>\n",
       "<polygon fill=\"#000000\" points=\"78.9605,-484.5903 75.4604,-474.5904 71.9605,-484.5904 78.9605,-484.5903\" stroke=\"#000000\"/>\n",
       "</g>\n",
       "<!-- 4521747680 -->\n",
       "<g class=\"node\" id=\"node4\">\n",
       "<title>4521747680</title>\n",
       "<polygon fill=\"none\" points=\"11.6587,-365.5 11.6587,-401.5 139.2622,-401.5 139.2622,-365.5 11.6587,-365.5\" stroke=\"#000000\"/>\n",
       "<text fill=\"#000000\" font-family=\"Times,serif\" font-size=\"14.00\" text-anchor=\"middle\" x=\"75.4604\" y=\"-379.3\">dropout_2: Dropout</text>\n",
       "</g>\n",
       "<!-- 56433340488&#45;&gt;4521747680 -->\n",
       "<g class=\"edge\" id=\"edge4\">\n",
       "<title>56433340488-&gt;4521747680</title>\n",
       "<path d=\"M75.4604,-438.4551C75.4604,-430.3828 75.4604,-420.6764 75.4604,-411.6817\" fill=\"none\" stroke=\"#000000\"/>\n",
       "<polygon fill=\"#000000\" points=\"78.9605,-411.5903 75.4604,-401.5904 71.9605,-411.5904 78.9605,-411.5903\" stroke=\"#000000\"/>\n",
       "</g>\n",
       "<!-- 4588924264 -->\n",
       "<g class=\"node\" id=\"node5\">\n",
       "<title>4588924264</title>\n",
       "<polygon fill=\"none\" points=\"26.0381,-292.5 26.0381,-328.5 124.8828,-328.5 124.8828,-292.5 26.0381,-292.5\" stroke=\"#000000\"/>\n",
       "<text fill=\"#000000\" font-family=\"Times,serif\" font-size=\"14.00\" text-anchor=\"middle\" x=\"75.4604\" y=\"-306.3\">lstm_3: LSTM</text>\n",
       "</g>\n",
       "<!-- 4521747680&#45;&gt;4588924264 -->\n",
       "<g class=\"edge\" id=\"edge5\">\n",
       "<title>4521747680-&gt;4588924264</title>\n",
       "<path d=\"M75.4604,-365.4551C75.4604,-357.3828 75.4604,-347.6764 75.4604,-338.6817\" fill=\"none\" stroke=\"#000000\"/>\n",
       "<polygon fill=\"#000000\" points=\"78.9605,-338.5903 75.4604,-328.5904 71.9605,-338.5904 78.9605,-338.5903\" stroke=\"#000000\"/>\n",
       "</g>\n",
       "<!-- 4587838992 -->\n",
       "<g class=\"node\" id=\"node6\">\n",
       "<title>4587838992</title>\n",
       "<polygon fill=\"none\" points=\"23.3345,-219.5 23.3345,-255.5 127.5864,-255.5 127.5864,-219.5 23.3345,-219.5\" stroke=\"#000000\"/>\n",
       "<text fill=\"#000000\" font-family=\"Times,serif\" font-size=\"14.00\" text-anchor=\"middle\" x=\"75.4604\" y=\"-233.3\">dense_1: Dense</text>\n",
       "</g>\n",
       "<!-- 4588924264&#45;&gt;4587838992 -->\n",
       "<g class=\"edge\" id=\"edge6\">\n",
       "<title>4588924264-&gt;4587838992</title>\n",
       "<path d=\"M75.4604,-292.4551C75.4604,-284.3828 75.4604,-274.6764 75.4604,-265.6817\" fill=\"none\" stroke=\"#000000\"/>\n",
       "<polygon fill=\"#000000\" points=\"78.9605,-265.5903 75.4604,-255.5904 71.9605,-265.5904 78.9605,-265.5903\" stroke=\"#000000\"/>\n",
       "</g>\n",
       "<!-- 4590274656 -->\n",
       "<g class=\"node\" id=\"node7\">\n",
       "<title>4590274656</title>\n",
       "<polygon fill=\"none\" points=\"11.6587,-146.5 11.6587,-182.5 139.2622,-182.5 139.2622,-146.5 11.6587,-146.5\" stroke=\"#000000\"/>\n",
       "<text fill=\"#000000\" font-family=\"Times,serif\" font-size=\"14.00\" text-anchor=\"middle\" x=\"75.4604\" y=\"-160.3\">dropout_3: Dropout</text>\n",
       "</g>\n",
       "<!-- 4587838992&#45;&gt;4590274656 -->\n",
       "<g class=\"edge\" id=\"edge7\">\n",
       "<title>4587838992-&gt;4590274656</title>\n",
       "<path d=\"M75.4604,-219.4551C75.4604,-211.3828 75.4604,-201.6764 75.4604,-192.6817\" fill=\"none\" stroke=\"#000000\"/>\n",
       "<polygon fill=\"#000000\" points=\"78.9605,-192.5903 75.4604,-182.5904 71.9605,-192.5904 78.9605,-192.5903\" stroke=\"#000000\"/>\n",
       "</g>\n",
       "<!-- 56744356048 -->\n",
       "<g class=\"node\" id=\"node8\">\n",
       "<title>56744356048</title>\n",
       "<polygon fill=\"none\" points=\"23.3345,-73.5 23.3345,-109.5 127.5864,-109.5 127.5864,-73.5 23.3345,-73.5\" stroke=\"#000000\"/>\n",
       "<text fill=\"#000000\" font-family=\"Times,serif\" font-size=\"14.00\" text-anchor=\"middle\" x=\"75.4604\" y=\"-87.3\">dense_2: Dense</text>\n",
       "</g>\n",
       "<!-- 4590274656&#45;&gt;56744356048 -->\n",
       "<g class=\"edge\" id=\"edge8\">\n",
       "<title>4590274656-&gt;56744356048</title>\n",
       "<path d=\"M75.4604,-146.4551C75.4604,-138.3828 75.4604,-128.6764 75.4604,-119.6817\" fill=\"none\" stroke=\"#000000\"/>\n",
       "<polygon fill=\"#000000\" points=\"78.9605,-119.5903 75.4604,-109.5904 71.9605,-119.5904 78.9605,-119.5903\" stroke=\"#000000\"/>\n",
       "</g>\n",
       "<!-- 4589993712 -->\n",
       "<g class=\"node\" id=\"node9\">\n",
       "<title>4589993712</title>\n",
       "<polygon fill=\"none\" points=\"0,-.5 0,-36.5 150.9209,-36.5 150.9209,-.5 0,-.5\" stroke=\"#000000\"/>\n",
       "<text fill=\"#000000\" font-family=\"Times,serif\" font-size=\"14.00\" text-anchor=\"middle\" x=\"75.4604\" y=\"-14.3\">activation_1: Activation</text>\n",
       "</g>\n",
       "<!-- 56744356048&#45;&gt;4589993712 -->\n",
       "<g class=\"edge\" id=\"edge9\">\n",
       "<title>56744356048-&gt;4589993712</title>\n",
       "<path d=\"M75.4604,-73.4551C75.4604,-65.3828 75.4604,-55.6764 75.4604,-46.6817\" fill=\"none\" stroke=\"#000000\"/>\n",
       "<polygon fill=\"#000000\" points=\"78.9605,-46.5903 75.4604,-36.5904 71.9605,-46.5904 78.9605,-46.5903\" stroke=\"#000000\"/>\n",
       "</g>\n",
       "<!-- 56433352320 -->\n",
       "<g class=\"node\" id=\"node10\">\n",
       "<title>56433352320</title>\n",
       "<polygon fill=\"none\" points=\"28.9604,-657.5 28.9604,-693.5 121.9604,-693.5 121.9604,-657.5 28.9604,-657.5\" stroke=\"#000000\"/>\n",
       "<text fill=\"#000000\" font-family=\"Times,serif\" font-size=\"14.00\" text-anchor=\"middle\" x=\"75.4604\" y=\"-671.3\">56433352320</text>\n",
       "</g>\n",
       "<!-- 56433352320&#45;&gt;56433351648 -->\n",
       "<g class=\"edge\" id=\"edge1\">\n",
       "<title>56433352320-&gt;56433351648</title>\n",
       "<path d=\"M75.4604,-657.4551C75.4604,-649.3828 75.4604,-639.6764 75.4604,-630.6817\" fill=\"none\" stroke=\"#000000\"/>\n",
       "<polygon fill=\"#000000\" points=\"78.9605,-630.5903 75.4604,-620.5904 71.9605,-630.5904 78.9605,-630.5903\" stroke=\"#000000\"/>\n",
       "</g>\n",
       "</g>\n",
       "</svg>"
      ],
      "text/plain": [
       "<IPython.core.display.SVG object>"
      ]
     },
     "execution_count": 11,
     "metadata": {},
     "output_type": "execute_result"
    }
   ],
   "source": [
    "SVG(model_to_dot(model).create(prog = 'dot', format = 'svg'))"
   ]
  },
  {
   "cell_type": "code",
   "execution_count": null,
   "metadata": {},
   "outputs": [],
   "source": []
  },
  {
   "cell_type": "code",
   "execution_count": 12,
   "metadata": {},
   "outputs": [
    {
     "name": "stdout",
     "output_type": "stream",
     "text": [
      "Epoch 1/1\n",
      "771/771 [==============================] - 63s 81ms/step - loss: 4.8711\n"
     ]
    },
    {
     "data": {
      "text/plain": [
       "<keras.callbacks.History at 0xd366192b0>"
      ]
     },
     "execution_count": 12,
     "metadata": {},
     "output_type": "execute_result"
    }
   ],
   "source": [
    "model.fit(notes_input, notes_output, epochs = 1, batch_size = 64)"
   ]
  },
  {
   "cell_type": "code",
   "execution_count": 13,
   "metadata": {},
   "outputs": [],
   "source": [
    "start = np.random.randint(0, len(notes_input))"
   ]
  },
  {
   "cell_type": "code",
   "execution_count": 14,
   "metadata": {},
   "outputs": [],
   "source": [
    "int_to_note = dict((index, note) for index, note in enumerate(allnotes))"
   ]
  },
  {
   "cell_type": "code",
   "execution_count": 15,
   "metadata": {},
   "outputs": [],
   "source": [
    "start_music = notes_input[start]\n",
    "prediction_output = []"
   ]
  },
  {
   "cell_type": "code",
   "execution_count": 16,
   "metadata": {},
   "outputs": [
    {
     "data": {
      "text/plain": [
       "array([[0.48076923],\n",
       "       [0.74038462],\n",
       "       [0.92307692],\n",
       "       [0.93269231],\n",
       "       [0.49038462],\n",
       "       [0.65384615],\n",
       "       [0.11538462],\n",
       "       [0.63461538],\n",
       "       [0.75961538],\n",
       "       [0.97115385],\n",
       "       [0.19230769],\n",
       "       [0.75      ],\n",
       "       [0.97115385],\n",
       "       [0.64423077],\n",
       "       [0.75961538],\n",
       "       [0.89423077],\n",
       "       [0.99038462],\n",
       "       [0.31730769],\n",
       "       [0.875     ],\n",
       "       [0.94230769],\n",
       "       [0.64423077],\n",
       "       [0.34615385],\n",
       "       [0.98076923],\n",
       "       [0.64423077],\n",
       "       [0.93269231],\n",
       "       [0.5       ],\n",
       "       [0.5       ],\n",
       "       [0.66346154],\n",
       "       [0.65384615],\n",
       "       [0.5       ],\n",
       "       [0.94230769],\n",
       "       [0.99038462],\n",
       "       [0.74038462],\n",
       "       [0.64423077],\n",
       "       [0.98076923],\n",
       "       [0.75      ],\n",
       "       [0.64423077],\n",
       "       [0.65384615],\n",
       "       [0.75      ],\n",
       "       [0.94230769],\n",
       "       [0.99038462],\n",
       "       [0.75961538],\n",
       "       [0.19230769],\n",
       "       [0.57692308],\n",
       "       [0.89423077],\n",
       "       [0.92307692],\n",
       "       [0.25961538],\n",
       "       [0.75      ],\n",
       "       [0.92307692],\n",
       "       [0.58653846],\n",
       "       [0.75961538],\n",
       "       [0.59615385],\n",
       "       [0.59615385],\n",
       "       [0.63461538],\n",
       "       [0.75961538],\n",
       "       [0.92307692],\n",
       "       [0.75961538],\n",
       "       [0.11538462],\n",
       "       [0.64423077],\n",
       "       [0.92307692],\n",
       "       [0.93269231],\n",
       "       [0.64423077],\n",
       "       [0.93269231],\n",
       "       [0.49038462],\n",
       "       [0.65384615],\n",
       "       [0.36538462],\n",
       "       [0.59615385],\n",
       "       [0.875     ],\n",
       "       [0.04807692],\n",
       "       [0.48076923],\n",
       "       [0.875     ],\n",
       "       [0.92307692],\n",
       "       [0.75961538],\n",
       "       [0.59615385],\n",
       "       [0.03846154],\n",
       "       [0.73076923],\n",
       "       [0.47115385],\n",
       "       [0.92307692],\n",
       "       [0.47115385],\n",
       "       [0.49038462],\n",
       "       [0.97115385],\n",
       "       [0.75      ],\n",
       "       [0.93269231],\n",
       "       [0.49038462],\n",
       "       [0.11538462],\n",
       "       [0.90384615],\n",
       "       [0.65384615],\n",
       "       [0.73076923],\n",
       "       [0.65384615],\n",
       "       [0.63461538],\n",
       "       [0.73076923],\n",
       "       [0.47115385],\n",
       "       [0.73076923],\n",
       "       [0.91346154],\n",
       "       [0.93269231],\n",
       "       [0.49038462],\n",
       "       [0.73076923],\n",
       "       [0.65384615],\n",
       "       [0.11538462],\n",
       "       [0.625     ]])"
      ]
     },
     "execution_count": 16,
     "metadata": {},
     "output_type": "execute_result"
    }
   ],
   "source": [
    "start_music"
   ]
  },
  {
   "cell_type": "code",
   "execution_count": 32,
   "metadata": {},
   "outputs": [],
   "source": [
    "prediction_output = []\n",
    "\n",
    "for note_index in range(4):\n",
    "    prediction_input = np.reshape(start_music, (1, len(start_music), 1))\n",
    "    prediction_input = prediction_input / float(n_words)\n",
    "    prediction = model.predict(prediction_input, verbose = 0)\n",
    "\n",
    "    index = np.argmax(prediction)\n",
    "    result = int_to_note[index]\n",
    "    \n",
    "    prediction_output.append(result)\n",
    "    \n",
    "    start_music = list(start_music)\n",
    "    start_music.append(index)\n",
    "    start_music = start_music[1: len(start_music)]\n",
    "    \n",
    "\n",
    "\n",
    "    \n",
    "    "
   ]
  },
  {
   "cell_type": "code",
   "execution_count": 33,
   "metadata": {},
   "outputs": [
    {
     "data": {
      "text/plain": [
       "['E-6', 'E-6', 'E-6', 'E-6']"
      ]
     },
     "execution_count": 33,
     "metadata": {},
     "output_type": "execute_result"
    }
   ],
   "source": [
    "prediction_output"
   ]
  },
  {
   "cell_type": "code",
   "execution_count": 18,
   "metadata": {},
   "outputs": [],
   "source": []
  },
  {
   "cell_type": "code",
   "execution_count": null,
   "metadata": {},
   "outputs": [],
   "source": []
  },
  {
   "cell_type": "code",
   "execution_count": 34,
   "metadata": {},
   "outputs": [],
   "source": [
    "offset= 0\n",
    "output_notes = []\n",
    "for pattern in prediction_output:\n",
    "    new_note = note.Note(pattern)\n",
    "    new_note.offset = offset\n",
    "    new_note.storedInstrument = instrument.Guitar()\n",
    "    output_notes.append(new_note)\n",
    "    offset += .5\n",
    "    \n",
    "midi_stream = stream.Stream(output_notes)"
   ]
  },
  {
   "cell_type": "code",
   "execution_count": 35,
   "metadata": {},
   "outputs": [
    {
     "name": "stdout",
     "output_type": "stream",
     "text": [
      "<music21.stream.Stream 0xd37bf0b70> 0.0\n",
      "<music21.note.Note E-> 0.0\n",
      "<music21.note.Note E-> 0.5\n",
      "<music21.note.Note E-> 1.0\n",
      "<music21.note.Note E-> 1.5\n"
     ]
    }
   ],
   "source": [
    "for i in midi_stream.recurse():\n",
    "    print(i, i.offset)"
   ]
  },
  {
   "cell_type": "code",
   "execution_count": 37,
   "metadata": {},
   "outputs": [
    {
     "data": {
      "text/plain": [
       "'lstm.midi'"
      ]
     },
     "execution_count": 37,
     "metadata": {},
     "output_type": "execute_result"
    }
   ],
   "source": [
    "midi_stream.write('midi', fp= 'lstm.midi')"
   ]
  },
  {
   "cell_type": "code",
   "execution_count": null,
   "metadata": {},
   "outputs": [],
   "source": []
  }
 ],
 "metadata": {
  "kernelspec": {
   "display_name": "Python 3",
   "language": "python",
   "name": "python3"
  },
  "language_info": {
   "codemirror_mode": {
    "name": "ipython",
    "version": 3
   },
   "file_extension": ".py",
   "mimetype": "text/x-python",
   "name": "python",
   "nbconvert_exporter": "python",
   "pygments_lexer": "ipython3",
   "version": "3.6.5"
  }
 },
 "nbformat": 4,
 "nbformat_minor": 2
}
