{
 "cells": [
  {
   "cell_type": "code",
   "execution_count": 4,
   "metadata": {
    "collapsed": true
   },
   "outputs": [],
   "source": [
    "import pandas as pd\n",
    "import nltk\n",
    "import numpy as np\n",
    "from nltk.tokenize import *\n",
    "from bs4 import BeautifulSoup\n",
    "import requests"
   ]
  },
  {
   "cell_type": "code",
   "execution_count": 26,
   "metadata": {},
   "outputs": [],
   "source": [
    "request = requests.get('http://www.metrolyrics.com/zedd-lyrics.html')\n",
    "soup = BeautifulSoup(request.text, 'html.parser')"
   ]
  },
  {
   "cell_type": "code",
   "execution_count": 27,
   "metadata": {},
   "outputs": [],
   "source": [
    "links = []\n",
    "for i in soup.find_all('a', href= True):\n",
    "    links.append(i['href'])"
   ]
  },
  {
   "cell_type": "code",
   "execution_count": 28,
   "metadata": {
    "collapsed": true
   },
   "outputs": [],
   "source": [
    "links2 = links.copy()"
   ]
  },
  {
   "cell_type": "code",
   "execution_count": 37,
   "metadata": {},
   "outputs": [
    {
     "data": {
      "text/plain": [
       "['http://www.metrolyrics.com/the-middle-lyrics-zedd.html',\n",
       " 'http://www.metrolyrics.com/true-colors-grey-remix-lyrics-zedd.html',\n",
       " 'http://www.metrolyrics.com/one-strange-rock-lyrics-zedd.html']"
      ]
     },
     "execution_count": 37,
     "metadata": {},
     "output_type": "execute_result"
    }
   ],
   "source": [
    "links[:3]"
   ]
  },
  {
   "cell_type": "code",
   "execution_count": 32,
   "metadata": {},
   "outputs": [],
   "source": [
    "links = [i for i in links if 'zedd.html' in i]"
   ]
  },
  {
   "cell_type": "code",
   "execution_count": 42,
   "metadata": {},
   "outputs": [],
   "source": [
    "check = requests.get('http://www.metrolyrics.com/the-middle-lyrics-zedd.html')\n",
    "soup = BeautifulSoup(check.text, 'html.parser')"
   ]
  },
  {
   "cell_type": "code",
   "execution_count": 48,
   "metadata": {},
   "outputs": [],
   "source": [
    "zedd_lyrics = []\n",
    "for i in links:\n",
    "    request = requests.get(i)\n",
    "    soup = BeautifulSoup(request.text, 'html.parser')\n",
    "    zedd_lyrics.append(soup.find_all('p', class_= 'verse'))\n",
    "     "
   ]
  },
  {
   "cell_type": "code",
   "execution_count": 146,
   "metadata": {},
   "outputs": [],
   "source": [
    "zedd_lyrics_df = pd.DataFrame(np.array(zedd_lyrics))"
   ]
  },
  {
   "cell_type": "code",
   "execution_count": 147,
   "metadata": {},
   "outputs": [],
   "source": [
    "zedd_lyrics_df[0] = zedd_lyrics_df[0].apply(lambda x: ''.join(map(str, x))) \n"
   ]
  },
  {
   "cell_type": "code",
   "execution_count": 148,
   "metadata": {},
   "outputs": [],
   "source": [
    "zedd_lyrics_df[0] = zedd_lyrics_df[0].str.replace('<p class=\"verse\">', '')\n",
    "zedd_lyrics_df[0] = zedd_lyrics_df[0].str.replace('<br/>', '')\n",
    "zedd_lyrics_df[0] = zedd_lyrics_df[0].str.replace('</p>', '')\n",
    "zedd_lyrics_df[0] = zedd_lyrics_df[0].str.replace('\\n', '. ')"
   ]
  },
  {
   "cell_type": "code",
   "execution_count": 149,
   "metadata": {},
   "outputs": [],
   "source": [
    "zedd_lyrics_df = zedd_lyrics_df.apply(lambda x: x.replace('', np.nan))"
   ]
  },
  {
   "cell_type": "code",
   "execution_count": 150,
   "metadata": {
    "collapsed": true
   },
   "outputs": [],
   "source": [
    "zedd_lyrics_df = zedd_lyrics_df[zedd_lyrics_df[0].notnull()]"
   ]
  },
  {
   "cell_type": "code",
   "execution_count": 151,
   "metadata": {},
   "outputs": [],
   "source": [
    "zedd_lyrics_df = zedd_lyrics_df[zedd_lyrics_df[0].apply(lambda x: len(x) > 20)]"
   ]
  },
  {
   "cell_type": "code",
   "execution_count": 152,
   "metadata": {
    "collapsed": true
   },
   "outputs": [],
   "source": [
    "zedd_lyrics_df.reset_index(inplace = True)\n",
    "zedd_lyrics_df.drop('index', 1, inplace = True)"
   ]
  },
  {
   "cell_type": "code",
   "execution_count": 154,
   "metadata": {},
   "outputs": [
    {
     "data": {
      "text/html": [
       "<div>\n",
       "<style>\n",
       "    .dataframe thead tr:only-child th {\n",
       "        text-align: right;\n",
       "    }\n",
       "\n",
       "    .dataframe thead th {\n",
       "        text-align: left;\n",
       "    }\n",
       "\n",
       "    .dataframe tbody tr th {\n",
       "        vertical-align: top;\n",
       "    }\n",
       "</style>\n",
       "<table border=\"1\" class=\"dataframe\">\n",
       "  <thead>\n",
       "    <tr style=\"text-align: right;\">\n",
       "      <th></th>\n",
       "      <th>Zedd</th>\n",
       "    </tr>\n",
       "  </thead>\n",
       "  <tbody>\n",
       "    <tr>\n",
       "      <th>0</th>\n",
       "      <td>[Verse 1: Maren Morris]. Take a seat. Right ov...</td>\n",
       "    </tr>\n",
       "    <tr>\n",
       "      <th>1</th>\n",
       "      <td>Stars fall at my feet, keep me grounded as I r...</td>\n",
       "    </tr>\n",
       "    <tr>\n",
       "      <th>2</th>\n",
       "      <td>I see what you're wearing, there's nothing ben...</td>\n",
       "    </tr>\n",
       "    <tr>\n",
       "      <th>3</th>\n",
       "      <td>[Verse 1: Maren Morris]. Take a seat. Right ov...</td>\n",
       "    </tr>\n",
       "    <tr>\n",
       "      <th>4</th>\n",
       "      <td>Waiting for the time to pass you by. Hope the ...</td>\n",
       "    </tr>\n",
       "    <tr>\n",
       "      <th>5</th>\n",
       "      <td>High dive into frozen waves. Where the past co...</td>\n",
       "    </tr>\n",
       "    <tr>\n",
       "      <th>6</th>\n",
       "      <td>Silent love is calling faith. To shatter me th...</td>\n",
       "    </tr>\n",
       "    <tr>\n",
       "      <th>7</th>\n",
       "      <td>I want you to know that it's our time. You and...</td>\n",
       "    </tr>\n",
       "    <tr>\n",
       "      <th>8</th>\n",
       "      <td>I see what you're wearing. There's nothing ben...</td>\n",
       "    </tr>\n",
       "    <tr>\n",
       "      <th>9</th>\n",
       "      <td>I know that we are upside down. So hold your t...</td>\n",
       "    </tr>\n",
       "    <tr>\n",
       "      <th>10</th>\n",
       "      <td>I was a boat driftin' out into the sea. I had ...</td>\n",
       "    </tr>\n",
       "    <tr>\n",
       "      <th>11</th>\n",
       "      <td>Stars fall at my feet, keep me grounded as I r...</td>\n",
       "    </tr>\n",
       "    <tr>\n",
       "      <th>12</th>\n",
       "      <td>Breathing you in when I want you out. Finding ...</td>\n",
       "    </tr>\n",
       "    <tr>\n",
       "      <th>13</th>\n",
       "      <td>Chained to a love, but that don't mean much. S...</td>\n",
       "    </tr>\n",
       "    <tr>\n",
       "      <th>14</th>\n",
       "      <td>Days go by my window. World slows down as it g...</td>\n",
       "    </tr>\n",
       "    <tr>\n",
       "      <th>15</th>\n",
       "      <td>There's a fire that burns inside. It's an inst...</td>\n",
       "    </tr>\n",
       "    <tr>\n",
       "      <th>16</th>\n",
       "      <td>Take your dark days and send them to the sun a...</td>\n",
       "    </tr>\n",
       "    <tr>\n",
       "      <th>17</th>\n",
       "      <td>Daisy, always climbing up the same tree. Findi...</td>\n",
       "    </tr>\n",
       "    <tr>\n",
       "      <th>18</th>\n",
       "      <td>Living for tomorrow. Lost within a dream. Tryn...</td>\n",
       "    </tr>\n",
       "    <tr>\n",
       "      <th>19</th>\n",
       "      <td>Breathing you in when I want you out. Finding ...</td>\n",
       "    </tr>\n",
       "    <tr>\n",
       "      <th>20</th>\n",
       "      <td>This feeling is heavy. Makes my body ache and ...</td>\n",
       "    </tr>\n",
       "    <tr>\n",
       "      <th>21</th>\n",
       "      <td>I see what you're wearing, there's nothing ben...</td>\n",
       "    </tr>\n",
       "    <tr>\n",
       "      <th>22</th>\n",
       "      <td>Fading. So slow. Black Hole. I feel it slippin...</td>\n",
       "    </tr>\n",
       "    <tr>\n",
       "      <th>23</th>\n",
       "      <td>Don't slam the fucking door. Shit!Don't slam t...</td>\n",
       "    </tr>\n",
       "    <tr>\n",
       "      <th>24</th>\n",
       "      <td>We are, we are a fallen chemistry. love has ta...</td>\n",
       "    </tr>\n",
       "    <tr>\n",
       "      <th>25</th>\n",
       "      <td>We're smart enough to know that no one gets ou...</td>\n",
       "    </tr>\n",
       "    <tr>\n",
       "      <th>26</th>\n",
       "      <td>Stars fall at my feet, keep me grounded as I r...</td>\n",
       "    </tr>\n",
       "    <tr>\n",
       "      <th>27</th>\n",
       "      <td>It feels like the fairytale is over, I really ...</td>\n",
       "    </tr>\n",
       "    <tr>\n",
       "      <th>28</th>\n",
       "      <td>Just an outline made of skin. And my walls are...</td>\n",
       "    </tr>\n",
       "    <tr>\n",
       "      <th>29</th>\n",
       "      <td>I see what you're wearing, there's nothing ben...</td>\n",
       "    </tr>\n",
       "    <tr>\n",
       "      <th>30</th>\n",
       "      <td>With my words across your face. You're making ...</td>\n",
       "    </tr>\n",
       "    <tr>\n",
       "      <th>31</th>\n",
       "      <td>I see what you're wearing. There's nothing ben...</td>\n",
       "    </tr>\n",
       "    <tr>\n",
       "      <th>32</th>\n",
       "      <td>Now we're staring at the ceiling. You're so pr...</td>\n",
       "    </tr>\n",
       "    <tr>\n",
       "      <th>33</th>\n",
       "      <td>Baby, if you're done with love. who's gonna ho...</td>\n",
       "    </tr>\n",
       "    <tr>\n",
       "      <th>34</th>\n",
       "      <td>You light me up. You bring the crowd. I think ...</td>\n",
       "    </tr>\n",
       "    <tr>\n",
       "      <th>35</th>\n",
       "      <td>Now we're staring at the ceiling. You're so pr...</td>\n",
       "    </tr>\n",
       "    <tr>\n",
       "      <th>36</th>\n",
       "      <td>I know that we are upside down. So hold your t...</td>\n",
       "    </tr>\n",
       "    <tr>\n",
       "      <th>37</th>\n",
       "      <td>I let it fall, my heart,. And as it fell, you ...</td>\n",
       "    </tr>\n",
       "  </tbody>\n",
       "</table>\n",
       "</div>"
      ],
      "text/plain": [
       "                                                 Zedd\n",
       "0   [Verse 1: Maren Morris]. Take a seat. Right ov...\n",
       "1   Stars fall at my feet, keep me grounded as I r...\n",
       "2   I see what you're wearing, there's nothing ben...\n",
       "3   [Verse 1: Maren Morris]. Take a seat. Right ov...\n",
       "4   Waiting for the time to pass you by. Hope the ...\n",
       "5   High dive into frozen waves. Where the past co...\n",
       "6   Silent love is calling faith. To shatter me th...\n",
       "7   I want you to know that it's our time. You and...\n",
       "8   I see what you're wearing. There's nothing ben...\n",
       "9   I know that we are upside down. So hold your t...\n",
       "10  I was a boat driftin' out into the sea. I had ...\n",
       "11  Stars fall at my feet, keep me grounded as I r...\n",
       "12  Breathing you in when I want you out. Finding ...\n",
       "13  Chained to a love, but that don't mean much. S...\n",
       "14  Days go by my window. World slows down as it g...\n",
       "15  There's a fire that burns inside. It's an inst...\n",
       "16  Take your dark days and send them to the sun a...\n",
       "17  Daisy, always climbing up the same tree. Findi...\n",
       "18  Living for tomorrow. Lost within a dream. Tryn...\n",
       "19  Breathing you in when I want you out. Finding ...\n",
       "20  This feeling is heavy. Makes my body ache and ...\n",
       "21  I see what you're wearing, there's nothing ben...\n",
       "22  Fading. So slow. Black Hole. I feel it slippin...\n",
       "23  Don't slam the fucking door. Shit!Don't slam t...\n",
       "24  We are, we are a fallen chemistry. love has ta...\n",
       "25  We're smart enough to know that no one gets ou...\n",
       "26  Stars fall at my feet, keep me grounded as I r...\n",
       "27  It feels like the fairytale is over, I really ...\n",
       "28  Just an outline made of skin. And my walls are...\n",
       "29  I see what you're wearing, there's nothing ben...\n",
       "30  With my words across your face. You're making ...\n",
       "31  I see what you're wearing. There's nothing ben...\n",
       "32  Now we're staring at the ceiling. You're so pr...\n",
       "33  Baby, if you're done with love. who's gonna ho...\n",
       "34  You light me up. You bring the crowd. I think ...\n",
       "35  Now we're staring at the ceiling. You're so pr...\n",
       "36  I know that we are upside down. So hold your t...\n",
       "37  I let it fall, my heart,. And as it fell, you ..."
      ]
     },
     "execution_count": 154,
     "metadata": {},
     "output_type": "execute_result"
    }
   ],
   "source": [
    "zedd_lzedd_lyrics_df.rename(columns = {0:'Zedd'})"
   ]
  },
  {
   "cell_type": "code",
   "execution_count": null,
   "metadata": {
    "collapsed": true
   },
   "outputs": [],
   "source": []
  }
 ],
 "metadata": {
  "kernelspec": {
   "display_name": "Python 3",
   "language": "python",
   "name": "python3"
  },
  "language_info": {
   "codemirror_mode": {
    "name": "ipython",
    "version": 3
   },
   "file_extension": ".py",
   "mimetype": "text/x-python",
   "name": "python",
   "nbconvert_exporter": "python",
   "pygments_lexer": "ipython3",
   "version": "3.6.3"
  }
 },
 "nbformat": 4,
 "nbformat_minor": 2
}
