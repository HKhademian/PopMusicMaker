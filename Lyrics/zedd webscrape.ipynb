{
 "cells": [
  {
   "cell_type": "code",
   "execution_count": 40,
   "metadata": {
    "collapsed": true
   },
   "outputs": [],
   "source": [
    "import pandas as pd\n",
    "import nltk\n",
    "import numpy as np\n",
    "from nltk.tokenize import *\n",
    "from bs4 import BeautifulSoup\n",
    "import requests"
   ]
  },
  {
   "cell_type": "code",
   "execution_count": 41,
   "metadata": {},
   "outputs": [],
   "source": [
    "request = requests.get('http://www.metrolyrics.com/adele-lyrics.html')\n",
    "soup = BeautifulSoup(request.text, 'html.parser')"
   ]
  },
  {
   "cell_type": "code",
   "execution_count": 42,
   "metadata": {},
   "outputs": [],
   "source": [
    "links = []\n",
    "for i in soup.find_all('a', href= True):\n",
    "    links.append(i['href'])"
   ]
  },
  {
   "cell_type": "code",
   "execution_count": 43,
   "metadata": {
    "collapsed": true
   },
   "outputs": [],
   "source": [
    "links2 = links.copy()"
   ]
  },
  {
   "cell_type": "code",
   "execution_count": 44,
   "metadata": {},
   "outputs": [
    {
     "data": {
      "text/plain": [
       "['http://www.metrolyrics.com/',\n",
       " 'http://www.metrolyrics.com/top100.html',\n",
       " 'http://www.metrolyrics.com/videos.html']"
      ]
     },
     "execution_count": 44,
     "metadata": {},
     "output_type": "execute_result"
    }
   ],
   "source": [
    "links[:3]"
   ]
  },
  {
   "cell_type": "code",
   "execution_count": 45,
   "metadata": {},
   "outputs": [],
   "source": [
    "links = [i for i in links if 'adele.html' in i]"
   ]
  },
  {
   "cell_type": "code",
   "execution_count": 46,
   "metadata": {},
   "outputs": [],
   "source": [
    "# check = requests.get('http://www.metrolyrics.com/the-middle-lyrics-zedd.html')\n",
    "# soup = BeautifulSoup(check.text, 'html.parser')"
   ]
  },
  {
   "cell_type": "code",
   "execution_count": 47,
   "metadata": {},
   "outputs": [],
   "source": [
    "adele_lyrics = []\n",
    "for i in links:\n",
    "    request = requests.get(i)\n",
    "    soup = BeautifulSoup(request.text, 'html.parser')\n",
    "    adele_lyrics.append(soup.find_all('p', class_= 'verse'))\n",
    "     "
   ]
  },
  {
   "cell_type": "code",
   "execution_count": 48,
   "metadata": {},
   "outputs": [],
   "source": [
    "adele_lyrics_df = pd.DataFrame(np.array(adele_lyrics))"
   ]
  },
  {
   "cell_type": "code",
   "execution_count": null,
   "metadata": {},
   "outputs": [],
   "source": []
  },
  {
   "cell_type": "code",
   "execution_count": 54,
   "metadata": {},
   "outputs": [],
   "source": [
    "def clean_lyrics(avicii_lyrics_df, name_of_column = 'avicii'):\n",
    "\n",
    "    avicii_lyrics_df[0] = avicii_lyrics_df[0].apply(lambda x: ''.join(map(str, x))) \n",
    "    avicii_lyrics_df[0] = avicii_lyrics_df[0].str.replace('<p class=\"verse\">', '')\n",
    "    avicii_lyrics_df[0] = avicii_lyrics_df[0].str.replace('<br/>', '')\n",
    "    avicii_lyrics_df[0] = avicii_lyrics_df[0].str.replace('</p>', '')\n",
    "    avicii_lyrics_df[0] = avicii_lyrics_df[0].str.replace('\\n', '. ')\n",
    "    avicii_lyrics_df = avicii_lyrics_df.apply(lambda x: x.replace('', np.nan))\n",
    "    avicii_lyrics_df = avicii_lyrics_df[avicii_lyrics_df[0].notnull()]\n",
    "    avicii_lyrics_df = avicii_lyrics_df[avicii_lyrics_df[0].notnull()]\n",
    "    avicii_lyrics_df = avicii_lyrics_df[avicii_lyrics_df[0].apply(lambda x: len(x) > 20)]\n",
    "    avicii_lyrics_df.reset_index(inplace = True)\n",
    "    avicii_lyrics_df.drop('index', 1, inplace = True)\n",
    "    \n",
    "    avicii_lyrics_df = avicii_lyrics_df.rename(columns = {0: name_of_column})\n",
    "    \n",
    "    avicii_lyrics_df.to_csv('/Users/Haebichan/Desktop/' + name_of_column + '_lyrics.csv')\n",
    "    \n",
    "    \n",
    "    "
   ]
  },
  {
   "cell_type": "code",
   "execution_count": 55,
   "metadata": {},
   "outputs": [],
   "source": [
    "clean_lyrics(adele_lyrics_df, name_of_column='adele')"
   ]
  },
  {
   "cell_type": "code",
   "execution_count": 23,
   "metadata": {},
   "outputs": [],
   "source": [
    "# avicii_lyrics_df[0] = avicii_lyrics_df[0].apply(lambda x: ''.join(map(str, x))) \n"
   ]
  },
  {
   "cell_type": "code",
   "execution_count": 24,
   "metadata": {},
   "outputs": [],
   "source": [
    "# avicii_lyrics_df[0] = avicii_lyrics_df[0].str.replace('<p class=\"verse\">', '')\n",
    "# avicii_lyrics_df[0] = avicii_lyrics_df[0].str.replace('<br/>', '')\n",
    "# avicii_lyrics_df[0] = avicii_lyrics_df[0].str.replace('</p>', '')\n",
    "# avicii_lyrics_df[0] = avicii_lyrics_df[0].str.replace('\\n', '. ')"
   ]
  },
  {
   "cell_type": "code",
   "execution_count": 25,
   "metadata": {},
   "outputs": [],
   "source": [
    "# avicii_lyrics_df = avicii_lyrics_df.apply(lambda x: x.replace('', np.nan))\n",
    "# avicii_lyrics_df = avicii_lyrics_df[avicii_lyrics_df[0].notnull()]"
   ]
  },
  {
   "cell_type": "code",
   "execution_count": 26,
   "metadata": {
    "collapsed": true
   },
   "outputs": [],
   "source": [
    "# avicii_lyrics_df = avicii_lyrics_df[avicii_lyrics_df[0].notnull()]"
   ]
  },
  {
   "cell_type": "code",
   "execution_count": 27,
   "metadata": {},
   "outputs": [],
   "source": [
    "# avicii_lyrics_df = avicii_lyrics_df[avicii_lyrics_df[0].apply(lambda x: len(x) > 20)]"
   ]
  },
  {
   "cell_type": "code",
   "execution_count": 28,
   "metadata": {
    "collapsed": true
   },
   "outputs": [],
   "source": [
    "# avicii_lyrics_df.reset_index(inplace = True)\n",
    "# avicii_lyrics_df.drop('index', 1, inplace = True)"
   ]
  },
  {
   "cell_type": "code",
   "execution_count": 29,
   "metadata": {},
   "outputs": [],
   "source": [
    "# avicii_lyrics_df = avicii_lyrics_df.rename(columns = {0:'Avicii'})"
   ]
  },
  {
   "cell_type": "code",
   "execution_count": 30,
   "metadata": {
    "collapsed": true
   },
   "outputs": [],
   "source": [
    "# avicii_lyrics_df.to_csv('/Users/Haebichan/Desktop/avicii_lyrics.csv')"
   ]
  },
  {
   "cell_type": "code",
   "execution_count": null,
   "metadata": {
    "collapsed": true
   },
   "outputs": [],
   "source": []
  }
 ],
 "metadata": {
  "kernelspec": {
   "display_name": "Python 3",
   "language": "python",
   "name": "python3"
  },
  "language_info": {
   "codemirror_mode": {
    "name": "ipython",
    "version": 3
   },
   "file_extension": ".py",
   "mimetype": "text/x-python",
   "name": "python",
   "nbconvert_exporter": "python",
   "pygments_lexer": "ipython3",
   "version": "3.6.5"
  }
 },
 "nbformat": 4,
 "nbformat_minor": 2
}
